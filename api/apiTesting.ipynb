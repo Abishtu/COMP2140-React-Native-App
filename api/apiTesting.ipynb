{
 "cells": [
  {
   "cell_type": "code",
   "execution_count": 1,
   "metadata": {},
   "outputs": [],
   "source": [
    "import requests\n",
    "url = \"https://comp2140.uqcloud.net/api/\"\n",
    "key = \"aneesha\""
   ]
  },
  {
   "cell_type": "code",
   "execution_count": 12,
   "metadata": {},
   "outputs": [
    {
     "data": {
      "text/plain": [
       "[{'id': 39,\n",
       "  'api_key': 'aneesha',\n",
       "  'sample_id': 4,\n",
       "  'location_id': 1,\n",
       "  'datetime': '2023-09-04T17:09:00Z'},\n",
       " {'id': 1579,\n",
       "  'api_key': 'aneesha',\n",
       "  'sample_id': 1,\n",
       "  'location_id': 1,\n",
       "  'datetime': '2023-09-16T00:33:40.563462Z'},\n",
       " {'id': 2886,\n",
       "  'api_key': 'aneesha',\n",
       "  'sample_id': 5,\n",
       "  'location_id': 1,\n",
       "  'datetime': '2023-09-19T11:39:37.962672Z'},\n",
       " {'id': 2887,\n",
       "  'api_key': 'aneesha',\n",
       "  'sample_id': 6,\n",
       "  'location_id': 1,\n",
       "  'datetime': '2023-09-19T11:43:26.031956Z'},\n",
       " {'id': 3324,\n",
       "  'api_key': 'aneesha',\n",
       "  'sample_id': 1,\n",
       "  'location_id': 1,\n",
       "  'datetime': '2023-09-20T11:20:03.247510Z'}]"
      ]
     },
     "execution_count": 12,
     "metadata": {},
     "output_type": "execute_result"
    }
   ],
   "source": [
    "# Sample to locations\n",
    "response = requests.get(f'https://comp2140.uqcloud.net/api/sampletolocation/?api_key=aneesha&location_id=1')\n",
    "response.json()"
   ]
  },
  {
   "cell_type": "code",
   "execution_count": 20,
   "metadata": {},
   "outputs": [
    {
     "data": {
      "text/plain": [
       "[]"
      ]
     },
     "execution_count": 20,
     "metadata": {},
     "output_type": "execute_result"
    }
   ],
   "source": [
    "response = requests.get(f'https://comp2140.uqcloud.net/api/samplerating/?api_key=aneesha&sample_id=2')\n",
    "response.json()"
   ]
  }
 ],
 "metadata": {
  "kernelspec": {
   "display_name": "Python 3",
   "language": "python",
   "name": "python3"
  },
  "language_info": {
   "codemirror_mode": {
    "name": "ipython",
    "version": 3
   },
   "file_extension": ".py",
   "mimetype": "text/x-python",
   "name": "python",
   "nbconvert_exporter": "python",
   "pygments_lexer": "ipython3",
   "version": "3.11.5"
  }
 },
 "nbformat": 4,
 "nbformat_minor": 2
}
