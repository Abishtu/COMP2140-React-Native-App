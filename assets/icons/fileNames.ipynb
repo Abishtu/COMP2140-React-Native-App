{
 "cells": [
  {
   "cell_type": "code",
   "execution_count": 5,
   "metadata": {},
   "outputs": [],
   "source": [
    "import os"
   ]
  },
  {
   "cell_type": "code",
   "execution_count": 4,
   "metadata": {},
   "outputs": [
    {
     "data": {
      "text/plain": [
       "[2, 3]"
      ]
     },
     "execution_count": 4,
     "metadata": {},
     "output_type": "execute_result"
    }
   ],
   "source": [
    "foo = [1, 2, 3]\n",
    "foo[1:]"
   ]
  },
  {
   "cell_type": "code",
   "execution_count": 6,
   "metadata": {},
   "outputs": [
    {
     "name": "stdout",
     "output_type": "stream",
     "text": [
      "import appIcon from \"../assets/icons/app-icon.png\"\n",
      "import iconPinDarkpurple from \"../assets/icons/icon-pin-darkpurple.png\"\n",
      "import iconPinLightpurple from \"../assets/icons/icon-pin-lightpurple.png\"\n",
      "import iconPinWhite from \"../assets/icons/icon-pin-white.png\"\n",
      "import iconSmileyDarkpurple from \"../assets/icons/icon-smiley-darkpurple.png\"\n",
      "import iconSmileyLightpurple from \"../assets/icons/icon-smiley-lightpurple.png\"\n",
      "import iconSmileyWhite from \"../assets/icons/icon-smiley-white.png\"\n",
      "import logoDarkpurple from \"../assets/icons/logo-darkpurple.png\"\n",
      "import logoWhite from \"../assets/icons/logo-white.png\"\n",
      "import tabMapDarkpurple from \"../assets/icons/tab-map-darkpurple.png\"\n",
      "import tabMapWhite from \"../assets/icons/tab-map-white.png\"\n",
      "import tabProfileDarkpurple from \"../assets/icons/tab-profile-darkpurple.png\"\n",
      "import tabProfileWhite from \"../assets/icons/tab-profile-white.png\"\n",
      "\n",
      "export default {\n",
      "\tappIcon,\n",
      "\ticonPinDarkpurple,\n",
      "\ticonPinLightpurple,\n",
      "\ticonPinWhite,\n",
      "\ticonSmileyDarkpurple,\n",
      "\ticonSmileyLightpurple,\n",
      "\ticonSmileyWhite,\n",
      "\tlogoDarkpurple,\n",
      "\tlogoWhite,\n",
      "\ttabMapDarkpurple,\n",
      "\ttabMapWhite,\n",
      "\ttabProfileDarkpurple,\n",
      "\ttabProfileWhite,\n",
      "}\n"
     ]
    }
   ],
   "source": [
    "icons = os.listdir();\n",
    "icons_names = []\n",
    "for icon in icons:\n",
    "    if \"png\" in icon:\n",
    "        name_1 = (icon.split(\".\"))[0]\n",
    "        \n",
    "        name_2 = name_1.split('-')[0]\n",
    "        for name in name_1.split('-')[1:]:\n",
    "            name_2 += name.capitalize()\n",
    "        icons_names.append(name_2)\n",
    "        print(f\"import {name_2} from \\\"../assets/icons/{icon}\\\"\")\n",
    "\n",
    "print('\\nexport default {')\n",
    "for icon in icons_names:\n",
    "    print(f'\\t{icon},')\n",
    "print('}')"
   ]
  }
 ],
 "metadata": {
  "kernelspec": {
   "display_name": "Python 3",
   "language": "python",
   "name": "python3"
  },
  "language_info": {
   "codemirror_mode": {
    "name": "ipython",
    "version": 3
   },
   "file_extension": ".py",
   "mimetype": "text/x-python",
   "name": "python",
   "nbconvert_exporter": "python",
   "pygments_lexer": "ipython3",
   "version": "3.11.5"
  }
 },
 "nbformat": 4,
 "nbformat_minor": 2
}
